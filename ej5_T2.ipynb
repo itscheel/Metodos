{
 "cells": [
  {
   "cell_type": "code",
   "execution_count": 1,
   "metadata": {},
   "outputs": [],
   "source": [
    "import pandas as pd\n",
    "import os\n",
    "import matplotlib.pyplot as plt\n",
    "import matplotlib.mlab as mlab\n",
    "import matplotlib\n",
    "import numpy as np\n",
    "plt.style.use('Solarize_Light2')\n",
    "%matplotlib inline\n"
   ]
  },
  {
   "cell_type": "markdown",
   "metadata": {},
   "source": [
    "# Ejercicio 5"
   ]
  },
  {
   "cell_type": "markdown",
   "metadata": {},
   "source": [
    "#### Considere una muestra aleatoria $X_{1},..., X_{n}$ con función de densidad\n",
    "### $$ f(x|p)= p(1-p)^{x-1}, x=1,2,... p\\in (0,1)$$\n",
    "\n",
    "\n"
   ]
  },
  {
   "cell_type": "markdown",
   "metadata": {},
   "source": [
    "#### Construya una prueba de hipótesis para el contraste $H_{0}:p=\\frac{1}{2}$ vs $H_{1}:p\\neq \\frac{1}{2} $  de\n",
    " #### tamaño $\\alpha = 0.05$"
   ]
  },
  {
   "cell_type": "markdown",
   "metadata": {},
   "source": [
    "El estadistico $T(X) = \\sum_{i=1}^{n} x_{i}$ es suficiente para p y se distribuye con función $BinomialNegativa (p,n)$, veremos si $g(t;p)=\\binom{t-1}{n-1} p^{n}(1-p)^{t-n}$ tiene CMV\n",
    "\n",
    "$$ \\psi(t) = \\frac{g(t;p_{1})}{g(t;p_{2})} = \\frac{\\binom{t-1}{n-1} p_{2}^{n}(1-p_{2})^{t-n}}{\\binom{t-1}{n-1} p_{1}^{n}(1-p_{1})^{t-n}}=  \\left ( \\frac{p_{2}}{p_{1}}\\right )^n\\left (\\frac{1-p_{2}}{1-p_{1}}\\right )^{t-n} =  \\left ( \\frac{p_{2}(1-p_{1})}{p_{1}(1-p_{2})}\\right )^n \\left ( \\frac{1-p_{2}}{1-p_{1}} \\right )^{t}$$\n",
    "Función tipo:\n",
    "$$ f(t)= a^n b^t,  0<b<1 $$\n",
    "Tiene Coeficiciente Monótono no creciente.\n"
   ]
  },
  {
   "cell_type": "code",
   "execution_count": 2,
   "metadata": {},
   "outputs": [],
   "source": [
    "def psi(t, n, p2=.7, p1=.3):\n",
    "    return ((p2/p1)**n)*((1-p2)/(1-p1))**(t-n)    "
   ]
  },
  {
   "cell_type": "code",
   "execution_count": 3,
   "metadata": {},
   "outputs": [
    {
     "data": {
      "text/plain": [
       "<matplotlib.collections.PathCollection at 0x7f0494bda390>"
      ]
     },
     "execution_count": 3,
     "metadata": {},
     "output_type": "execute_result"
    },
    {
     "data": {
      "image/png": "[encoded data removed]",
      "text/plain": [
       "<Figure size 432x288 with 1 Axes>"
      ]
     },
     "metadata": {
      "needs_background": "light"
     },
     "output_type": "display_data"
    }
   ],
   "source": [
    "x=np.arange(0,50)\n",
    "y=[psi(i,100) for i in x]\n",
    "plt.scatter(x,y)"
   ]
  },
  {
   "cell_type": "markdown",
   "metadata": {},
   "source": [
    "Por lo tanto se puede aplicar el Teorema de Karlin-Rubin para los siguientes contrastes de hipótesis:\n",
    "$H_{01}: p\\leq \\frac{1}{2} $ vs $ H_{11}: p>\\frac{1}{2}$ y $H_{02}: p\\geq \\frac{1}{2} $ vs $ H_{12}: p<\\frac{1}{2}$ \n",
    "\n",
    "Podemos encontrar sus siguentes regiones de rechazo respectivamente:\n",
    "$$RR_{1} = \\left\\{ X | \\sum_{i=1}^{n} x_{i}\\geq k_{\\alpha_{1}}\\right\\}$$ con $k_{\\alpha_{1}}$ que satisface \n",
    "$$\\mathbb{P}(\\sum_{i=1}^{n} x_{i}\\geq k_{\\alpha_{1}}|\\theta = 1/2) = \\alpha_{1}=0.025$$ o lo que es equivalente a\n",
    "$$ \\mathbb{P}(\\sum_{i=1}^{n} x_{i}< k_{\\alpha_{1}}|\\theta = 1/2) = 1-\\alpha_{1}=0.975$$\n",
    "Analogamente\n",
    "$$RR_{2} = \\left\\{ X | \\sum_{i=1}^{n} x_{i}\\leq c_{\\alpha_{2}}\\right\\}$$ con $c_{\\alpha_{2}}$ que satisface \n",
    "\n",
    "$$\\mathbb{P}(\\sum_{i=1}^{n} x_{i}\\leq c_{\\alpha_{2}}|\\theta = 1/2) = \\alpha_{2} =0.025$$"
   ]
  },
  {
   "cell_type": "markdown",
   "metadata": {},
   "source": [
    "Para el contraste $H_{0}: p=\\frac{1}{2}$ vs  $H_{0}: p\\neq\\frac{1}{2}$ como $\\Theta=\\{\\frac{1}{2}\\} = \\Theta_{01}\\cap\\Theta_{02}$ entonces $$RR = RR_{1} \\cup RR_{2} = \\left\\{ X |\\sum_{i=1}^{n} x_{i}\\geq k_{\\alpha_{1}} ó \\sum_{i=1}^{n} x_{i}\\leq c_{\\alpha_{2}}\\right\\}$$\n",
    "tal que\n",
    "$$\\mathbb{P}\\left (\\{ \\sum_{i=1}^{n} x_{i}\\geq k_{\\alpha_{1}}\\} \\cup \\{ \\sum_{i=1}^{n} x_{i}\\leq c_{\\alpha_{2}}\\}|\\theta = 1/2\\right) =0.05 $$"
   ]
  },
  {
   "cell_type": "markdown",
   "metadata": {},
   "source": [
    "#### Con ayuda de la muestra aleatoria observada, data2Ej5.txt , diga si se rechaza o no se rechaza la hipótesis nula y calcule el p-value."
   ]
  },
  {
   "cell_type": "markdown",
   "metadata": {},
   "source": [
    "Obtenemos $k_{\\alpha_{1}}$ y $c_{\\alpha_{2}}$"
   ]
  },
  {
   "cell_type": "code",
   "execution_count": 4,
   "metadata": {},
   "outputs": [],
   "source": [
    "ruta='/home/jennifer/cdatos/sexto/estadistica/tarea2/'"
   ]
  },
  {
   "cell_type": "code",
   "execution_count": 5,
   "metadata": {},
   "outputs": [
    {
     "data": {
      "text/plain": [
       "['data2Ej5.txt',\n",
       " 'data2Ej4.txt',\n",
       " 'data2Ej3.txt',\n",
       " 'data2Ej2.txt',\n",
       " 'data2Ej1.txt']"
      ]
     },
     "execution_count": 5,
     "metadata": {},
     "output_type": "execute_result"
    }
   ],
   "source": [
    "os.listdir(ruta)"
   ]
  },
  {
   "cell_type": "code",
   "execution_count": 6,
   "metadata": {},
   "outputs": [],
   "source": [
    "data = pd.read_csv(os.path.join(ruta,os.listdir(ruta)[0]))"
   ]
  },
  {
   "cell_type": "code",
   "execution_count": 7,
   "metadata": {},
   "outputs": [],
   "source": [
    "##Transformacion para el modelo ocupado\n",
    "data['x*']=data['x']+1"
   ]
  },
  {
   "cell_type": "code",
   "execution_count": 8,
   "metadata": {},
   "outputs": [
    {
     "data": {
      "text/html": [
       "<div>\n",
       "<style scoped>\n",
       "    .dataframe tbody tr th:only-of-type {\n",
       "        vertical-align: middle;\n",
       "    }\n",
       "\n",
       "    .dataframe tbody tr th {\n",
       "        vertical-align: top;\n",
       "    }\n",
       "\n",
       "    .dataframe thead th {\n",
       "        text-align: right;\n",
       "    }\n",
       "</style>\n",
       "<table border=\"1\" class=\"dataframe\">\n",
       "  <thead>\n",
       "    <tr style=\"text-align: right;\">\n",
       "      <th></th>\n",
       "      <th>x</th>\n",
       "      <th>x*</th>\n",
       "    </tr>\n",
       "  </thead>\n",
       "  <tbody>\n",
       "    <tr>\n",
       "      <td>0</td>\n",
       "      <td>0</td>\n",
       "      <td>1</td>\n",
       "    </tr>\n",
       "    <tr>\n",
       "      <td>1</td>\n",
       "      <td>1</td>\n",
       "      <td>2</td>\n",
       "    </tr>\n",
       "    <tr>\n",
       "      <td>2</td>\n",
       "      <td>2</td>\n",
       "      <td>3</td>\n",
       "    </tr>\n",
       "    <tr>\n",
       "      <td>3</td>\n",
       "      <td>0</td>\n",
       "      <td>1</td>\n",
       "    </tr>\n",
       "    <tr>\n",
       "      <td>4</td>\n",
       "      <td>1</td>\n",
       "      <td>2</td>\n",
       "    </tr>\n",
       "    <tr>\n",
       "      <td>5</td>\n",
       "      <td>0</td>\n",
       "      <td>1</td>\n",
       "    </tr>\n",
       "    <tr>\n",
       "      <td>6</td>\n",
       "      <td>1</td>\n",
       "      <td>2</td>\n",
       "    </tr>\n",
       "    <tr>\n",
       "      <td>7</td>\n",
       "      <td>0</td>\n",
       "      <td>1</td>\n",
       "    </tr>\n",
       "    <tr>\n",
       "      <td>8</td>\n",
       "      <td>2</td>\n",
       "      <td>3</td>\n",
       "    </tr>\n",
       "    <tr>\n",
       "      <td>9</td>\n",
       "      <td>1</td>\n",
       "      <td>2</td>\n",
       "    </tr>\n",
       "    <tr>\n",
       "      <td>10</td>\n",
       "      <td>4</td>\n",
       "      <td>5</td>\n",
       "    </tr>\n",
       "    <tr>\n",
       "      <td>11</td>\n",
       "      <td>3</td>\n",
       "      <td>4</td>\n",
       "    </tr>\n",
       "    <tr>\n",
       "      <td>12</td>\n",
       "      <td>0</td>\n",
       "      <td>1</td>\n",
       "    </tr>\n",
       "    <tr>\n",
       "      <td>13</td>\n",
       "      <td>1</td>\n",
       "      <td>2</td>\n",
       "    </tr>\n",
       "    <tr>\n",
       "      <td>14</td>\n",
       "      <td>3</td>\n",
       "      <td>4</td>\n",
       "    </tr>\n",
       "    <tr>\n",
       "      <td>15</td>\n",
       "      <td>0</td>\n",
       "      <td>1</td>\n",
       "    </tr>\n",
       "    <tr>\n",
       "      <td>16</td>\n",
       "      <td>0</td>\n",
       "      <td>1</td>\n",
       "    </tr>\n",
       "    <tr>\n",
       "      <td>17</td>\n",
       "      <td>0</td>\n",
       "      <td>1</td>\n",
       "    </tr>\n",
       "    <tr>\n",
       "      <td>18</td>\n",
       "      <td>0</td>\n",
       "      <td>1</td>\n",
       "    </tr>\n",
       "    <tr>\n",
       "      <td>19</td>\n",
       "      <td>1</td>\n",
       "      <td>2</td>\n",
       "    </tr>\n",
       "  </tbody>\n",
       "</table>\n",
       "</div>"
      ],
      "text/plain": [
       "    x  x*\n",
       "0   0   1\n",
       "1   1   2\n",
       "2   2   3\n",
       "3   0   1\n",
       "4   1   2\n",
       "5   0   1\n",
       "6   1   2\n",
       "7   0   1\n",
       "8   2   3\n",
       "9   1   2\n",
       "10  4   5\n",
       "11  3   4\n",
       "12  0   1\n",
       "13  1   2\n",
       "14  3   4\n",
       "15  0   1\n",
       "16  0   1\n",
       "17  0   1\n",
       "18  0   1\n",
       "19  1   2"
      ]
     },
     "execution_count": 8,
     "metadata": {},
     "output_type": "execute_result"
    }
   ],
   "source": [
    "data"
   ]
  },
  {
   "cell_type": "code",
   "execution_count": 9,
   "metadata": {},
   "outputs": [
    {
     "data": {
      "text/plain": [
       "[<matplotlib.lines.Line2D at 0x7f048bdf19e8>]"
      ]
     },
     "execution_count": 9,
     "metadata": {},
     "output_type": "execute_result"
    },
    {
     "data": {
      "image/png": "[encoded data removed]",
      "text/plain": [
       "<Figure size 432x288 with 1 Axes>"
      ]
     },
     "metadata": {
      "needs_background": "light"
     },
     "output_type": "display_data"
    }
   ],
   "source": [
    "from scipy.stats import nbinom\n",
    "n =len(data)\n",
    "l=[]\n",
    "for k in np.arange(0,40):\n",
    "    l.append([k,nbinom.cdf(k,n,.5)])\n",
    "cdf = pd.DataFrame(l, columns={'k','CDF'})\n",
    "plt.plot(cdf['k'],cdf['CDF'])"
   ]
  },
  {
   "cell_type": "code",
   "execution_count": 10,
   "metadata": {},
   "outputs": [],
   "source": [
    "alpha = .05"
   ]
  },
  {
   "cell_type": "code",
   "execution_count": 11,
   "metadata": {},
   "outputs": [],
   "source": [
    "alphai=alpha/2"
   ]
  },
  {
   "cell_type": "code",
   "execution_count": 12,
   "metadata": {},
   "outputs": [
    {
     "data": {
      "text/plain": [
       "9.0"
      ]
     },
     "execution_count": 12,
     "metadata": {},
     "output_type": "execute_result"
    }
   ],
   "source": [
    "c = nbinom.ppf(alphai,20,1/2)\n",
    "c"
   ]
  },
  {
   "cell_type": "code",
   "execution_count": 13,
   "metadata": {},
   "outputs": [
    {
     "data": {
      "text/plain": [
       "34.0"
      ]
     },
     "execution_count": 13,
     "metadata": {},
     "output_type": "execute_result"
    }
   ],
   "source": [
    "k = nbinom.ppf(1-alphai,20,1/2)\n",
    "k"
   ]
  },
  {
   "cell_type": "code",
   "execution_count": 14,
   "metadata": {},
   "outputs": [
    {
     "data": {
      "text/plain": [
       "0.05082595491777908"
      ]
     },
     "execution_count": 14,
     "metadata": {},
     "output_type": "execute_result"
    }
   ],
   "source": [
    "##deberia sumar alpha\n",
    "nbinom.cdf(c,20,1/2) -nbinom.cdf(k,20,1/2)+1"
   ]
  },
  {
   "cell_type": "markdown",
   "metadata": {},
   "source": [
    " $$RR = RR_{1} \\cup RR_{2} = \\left\\{ X |\\sum_{i=1}^{20} x_{i}\\geq 34 ó \\sum_{i=1}^{20} x_{i}\\leq 9\\right\\}$$\n",
    " "
   ]
  },
  {
   "cell_type": "code",
   "execution_count": 15,
   "metadata": {},
   "outputs": [
    {
     "name": "stdout",
     "output_type": "stream",
     "text": [
      "Se rechaza H0\n"
     ]
    }
   ],
   "source": [
    "suma=0\n",
    "for i in data['x*'].tolist():\n",
    "    suma+=i\n",
    "if (suma<=c or suma>=k):\n",
    "    print(\"Se rechaza H0\")\n",
    "else:\n",
    "    print(\"No se rechaza H0\")"
   ]
  },
  {
   "cell_type": "code",
   "execution_count": 16,
   "metadata": {},
   "outputs": [
    {
     "data": {
      "text/plain": [
       "40"
      ]
     },
     "execution_count": 16,
     "metadata": {},
     "output_type": "execute_result"
    }
   ],
   "source": [
    "suma"
   ]
  },
  {
   "cell_type": "markdown",
   "metadata": {},
   "source": [
    "Para obtener el p-value debemos observar lo suguiente:\n",
    "$$\\mathbb{P}(\\sum_{i=1}^{20}x_{i} \\geq 40)=1-F_{\\sum x_{i}}(39 |\\theta=1/2)  $$"
   ]
  },
  {
   "cell_type": "code",
   "execution_count": 19,
   "metadata": {},
   "outputs": [
    {
     "data": {
      "text/plain": [
       "0.004320749841640881"
      ]
     },
     "execution_count": 19,
     "metadata": {},
     "output_type": "execute_result"
    }
   ],
   "source": [
    "(1-nbinom.cdf(39,20,1/2))"
   ]
  },
  {
   "cell_type": "markdown",
   "metadata": {},
   "source": [
    "Para rechazar tiene que suceder que $ \\alpha^{*}_{1}=1-F_{\\sum x_{i}}(39 |\\theta=1/2)= 0.00432$\n",
    "\n",
    "por lo tanto\n",
    "$p-value=\\alpha^{*} = \\alpha^{*}_{1}*2 = 0.00864$"
   ]
  },
  {
   "cell_type": "markdown",
   "metadata": {},
   "source": [
    "#### Graficar la funcion potencia"
   ]
  },
  {
   "cell_type": "markdown",
   "metadata": {},
   "source": [
    "Obtenemos la funcion potencia:\n",
    "$$ \\pi(\\theta) = \\mathbb{P}( X \\in RR) = \\mathbb{P}(\\sum_{i=1}^{20} x_{i}\\geq 34 ó \\sum_{i=1}^{20} x_{i}\\leq 9) = \\mathbb{P}(\\sum_{i=1}^{20} x_{i}\\geq 34)+\\mathbb{P}(\\sum_{i=1}^{20} x_{i}\\leq 9)$$\n",
    "$$ =F_{\\sum x_{i}}(9|p)+(1-F_{\\sum x_{i}}(34|p))$$"
   ]
  },
  {
   "cell_type": "code",
   "execution_count": 20,
   "metadata": {},
   "outputs": [],
   "source": [
    "def pi(theta):\n",
    "    return nbinom.cdf(9,20,theta)+(1-nbinom.cdf(34,20,theta))"
   ]
  },
  {
   "cell_type": "code",
   "execution_count": 21,
   "metadata": {},
   "outputs": [
    {
     "data": {
      "text/plain": [
       "[<matplotlib.lines.Line2D at 0x7f048bd79048>]"
      ]
     },
     "execution_count": 21,
     "metadata": {},
     "output_type": "execute_result"
    },
    {
     "data": {
      "image/png": "[encoded data removed]",
      "text/plain": [
       "<Figure size 432x288 with 1 Axes>"
      ]
     },
     "metadata": {
      "needs_background": "light"
     },
     "output_type": "display_data"
    }
   ],
   "source": [
    "line=np.linspace(0.001,.999,50)\n",
    "p=[pi(x) for x in line]\n",
    "plt.plot(line,p)"
   ]
  },
  {
   "cell_type": "markdown",
   "metadata": {},
   "source": [
    "#### Intervalo de confianza"
   ]
  },
  {
   "cell_type": "code",
   "execution_count": 22,
   "metadata": {},
   "outputs": [
    {
     "data": {
      "text/plain": [
       "[<matplotlib.lines.Line2D at 0x7f048bcd19e8>]"
      ]
     },
     "execution_count": 22,
     "metadata": {},
     "output_type": "execute_result"
    },
    {
     "data": {
      "image/png": "[encoded data removed]",
      "text/plain": [
       "<Figure size 432x288 with 1 Axes>"
      ]
     },
     "metadata": {
      "needs_background": "light"
     },
     "output_type": "display_data"
    }
   ],
   "source": [
    "line = np.linspace(0,1,30)\n",
    "nbin =[nbinom.cdf(20,20,x) for x in line]\n",
    "plt.plot(line,nbin)"
   ]
  },
  {
   "cell_type": "code",
   "execution_count": 23,
   "metadata": {},
   "outputs": [],
   "source": [
    "gamma = .95"
   ]
  },
  {
   "cell_type": "code",
   "execution_count": 24,
   "metadata": {},
   "outputs": [],
   "source": [
    "gamma1 =gamma2=gamma/2"
   ]
  },
  {
   "cell_type": "code",
   "execution_count": 48,
   "metadata": {},
   "outputs": [
    {
     "name": "stdout",
     "output_type": "stream",
     "text": [
      "El mejor intervalo econtrado de distancia, 0.24000000000000019  es:[ 0.22 , 0.4600000000000002 ]\n",
      "Con nivel de confianza  0.9541856879889152\n"
     ]
    }
   ],
   "source": [
    "dmin=1\n",
    "\n",
    "for i in np.arange(0.01,.999,.01):\n",
    "    for j in np.arange(i,.999,.01):\n",
    "        d =abs(i-j)\n",
    "        a = 1-nbinom.cdf(40,20,i) - (1-nbinom.cdf(40,20,j))\n",
    "        if (a >=gamma)and (nbinom.cdf(40,20,i)<.5) and d<dmin:\n",
    "            dmin=d\n",
    "            thetai=i\n",
    "            thetas=j\n",
    "            \n",
    "\n",
    "print('El mejor intervalo econtrado de distancia,',dmin,' es:[',thetai,',',thetas,']')  \n",
    "print('Con nivel de confianza ',1-nbinom.cdf(40,20,thetai) - (1-nbinom.cdf(40,20,thetas)))"
   ]
  }
 ],
 "metadata": {
  "kernelspec": {
   "display_name": "Python 3",
   "language": "python",
   "name": "python3"
  },
  "language_info": {
   "codemirror_mode": {
    "name": "ipython",
    "version": 3
   },
   "file_extension": ".py",
   "mimetype": "text/x-python",
   "name": "python",
   "nbconvert_exporter": "python",
   "pygments_lexer": "ipython3",
   "version": "3.6.8"
  }
 },
 "nbformat": 4,
 "nbformat_minor": 2
}
