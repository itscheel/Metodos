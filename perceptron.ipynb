{
  "nbformat": 4,
  "nbformat_minor": 0,
  "metadata": {
    "colab": {
      "name": "Untitled3.ipynb",
      "provenance": [],
      "authorship_tag": "ABX9TyMiWNTe7Cv+/XIPJP23meEe",
      "include_colab_link": true
    },
    "kernelspec": {
      "name": "python3",
      "display_name": "Python 3"
    }
  },
  "cells": [
    {
      "cell_type": "markdown",
      "metadata": {
        "id": "view-in-github",
        "colab_type": "text"
      },
      "source": [
        "<a href=\"https://colab.research.google.com/github/itscheel/Metodos/blob/master/perceptron.ipynb\" target=\"_parent\"><img src=\"https://colab.research.google.com/assets/colab-badge.svg\" alt=\"Open In Colab\"/></a>"
      ]
    },
    {
      "cell_type": "code",
      "metadata": {
        "id": "moOzI6_PRdAt",
        "colab_type": "code",
        "colab": {}
      },
      "source": [
        "import numpy as np"
      ],
      "execution_count": 0,
      "outputs": []
    },
    {
      "cell_type": "code",
      "metadata": {
        "id": "3toWJCDDRksW",
        "colab_type": "code",
        "colab": {}
      },
      "source": [
        "calif = [7,10,8,6,10,\n",
        "         6,10,7,9,9,10,8,\n",
        "         9,8,8,7,10,9,\n",
        "         8,9,9,8,9,9,\n",
        "         7,10,8,9,9,10,\n",
        "         10,8,8,10,8,7,10,\n",
        "         6,10,9,8,7,\n",
        "         8,10,8,8,7,10,\n",
        "         9,10]"
      ],
      "execution_count": 0,
      "outputs": []
    },
    {
      "cell_type": "code",
      "metadata": {
        "id": "qGwKh1geSaA8",
        "colab_type": "code",
        "outputId": "d574c8d8-00cf-4594-9d72-8eee0e66bb04",
        "colab": {
          "base_uri": "https://localhost:8080/",
          "height": 34
        }
      },
      "source": [
        "n = len(calif)\n",
        "sum(calif)/n"
      ],
      "execution_count": 3,
      "outputs": [
        {
          "output_type": "execute_result",
          "data": {
            "text/plain": [
              "8.54"
            ]
          },
          "metadata": {
            "tags": []
          },
          "execution_count": 3
        }
      ]
    },
    {
      "cell_type": "code",
      "metadata": {
        "id": "SYA7mcA0JC_D",
        "colab_type": "code",
        "colab": {}
      },
      "source": [
        "w1=.2\n",
        "w2=.3\n",
        "w3=.4\n",
        "t=1\n",
        "a=.2"
      ],
      "execution_count": 0,
      "outputs": []
    },
    {
      "cell_type": "code",
      "metadata": {
        "id": "pi8OdY2AJMg4",
        "colab_type": "code",
        "colab": {}
      },
      "source": [
        "A = [[0,0,0],[0,0,1],[0,1,0],[1,0,0],[0,1,1],[1,1,0],[1,0,1],[1,1,1]]\n",
        "#ABCposibles =np.matrix([[0,0,0],[0,0,1],[0,1,0],[1,0,0],[0,1,1],[1,1,0],[1,1,1]])"
      ],
      "execution_count": 0,
      "outputs": []
    },
    {
      "cell_type": "code",
      "metadata": {
        "id": "oMBu5cklKEgc",
        "colab_type": "code",
        "colab": {
          "base_uri": "https://localhost:8080/",
          "height": 554
        },
        "outputId": "2382a475-74ca-4999-dbce-38570355d02f"
      },
      "source": [
        "w1=.2\n",
        "w2=.3\n",
        "w3=.4\n",
        "t=2\n",
        "a=.2\n",
        "A = [[0,0,0],[0,0,1],[0,1,0],[1,0,0],[0,1,1],[1,1,0],[1,0,1],[1,1,1]]\n",
        "\n",
        "def AND (lista):\n",
        "  if sum(lista) == 3:\n",
        "    return 1\n",
        "  else:\n",
        "    return 0\n",
        "def salidareal(lista):\n",
        "  x = lista[0]*w1+lista[1]*w2+lista[2]*w3\n",
        "  if x<=t:\n",
        "    return 0\n",
        "  else:\n",
        "    return 1\n",
        "def error(lista):\n",
        "  return AND(lista)-salidareal(lista)\n",
        "def generarw(w,x,error):\n",
        "  return w+a*x*error\n",
        "\n",
        "stop = 0\n",
        "epoc = 1\n",
        "while(stop==0):\n",
        "    print('Epoca:',epoc)\n",
        "    errorepoc=0\n",
        "    print('x1,x2,x3','esperado','real','error','w1   ','w2   ','w3')\n",
        "    for i in range(len(A)):\n",
        "      e =error(A[i])\n",
        "      l = A[i]\n",
        "      errorepoc = e + errorepoc\n",
        "      print(l,'  ',AND(l),'   ',salidareal(l),'  ',e,' ', round(w1,2),' ', round(w2,2),' ',round(w3,2))\n",
        "      w1=generarw(w1,l[0],e)\n",
        "      w2 = generarw(w2,l[1],e)\n",
        "      w3 =generarw(w3,l[2],e)\n",
        "    epoc+=1\n",
        "    if errorepoc==0:\n",
        "      stop = 1\n",
        "print(\"Los parametros esperados son w1:\", round(w1,2),\", w2:\",round(w2,2),'w3:',round(w3,2),\n",
        "      \"encontrados depues de \", epoc-1, \" epocas.\")"
      ],
      "execution_count": 127,
      "outputs": [
        {
          "output_type": "stream",
          "text": [
            "Epoca: 1\n",
            "x1,x2,x3 esperado real error w1    w2    w3\n",
            "[0, 0, 0]    0     0    0   0.2   0.3   0.4\n",
            "[0, 0, 1]    0     0    0   0.2   0.3   0.4\n",
            "[0, 1, 0]    0     0    0   0.2   0.3   0.4\n",
            "[1, 0, 0]    0     0    0   0.2   0.3   0.4\n",
            "[0, 1, 1]    0     0    0   0.2   0.3   0.4\n",
            "[1, 1, 0]    0     0    0   0.2   0.3   0.4\n",
            "[1, 0, 1]    0     0    0   0.2   0.3   0.4\n",
            "[1, 1, 1]    1     0    1   0.2   0.3   0.4\n",
            "Epoca: 2\n",
            "x1,x2,x3 esperado real error w1    w2    w3\n",
            "[0, 0, 0]    0     0    0   0.4   0.5   0.6\n",
            "[0, 0, 1]    0     0    0   0.4   0.5   0.6\n",
            "[0, 1, 0]    0     0    0   0.4   0.5   0.6\n",
            "[1, 0, 0]    0     0    0   0.4   0.5   0.6\n",
            "[0, 1, 1]    0     0    0   0.4   0.5   0.6\n",
            "[1, 1, 0]    0     0    0   0.4   0.5   0.6\n",
            "[1, 0, 1]    0     0    0   0.4   0.5   0.6\n",
            "[1, 1, 1]    1     0    1   0.4   0.5   0.6\n",
            "Epoca: 3\n",
            "x1,x2,x3 esperado real error w1    w2    w3\n",
            "[0, 0, 0]    0     0    0   0.6   0.7   0.8\n",
            "[0, 0, 1]    0     0    0   0.6   0.7   0.8\n",
            "[0, 1, 0]    0     0    0   0.6   0.7   0.8\n",
            "[1, 0, 0]    0     0    0   0.6   0.7   0.8\n",
            "[0, 1, 1]    0     0    0   0.6   0.7   0.8\n",
            "[1, 1, 0]    0     0    0   0.6   0.7   0.8\n",
            "[1, 0, 1]    0     0    0   0.6   0.7   0.8\n",
            "[1, 1, 1]    1     1    0   0.6   0.7   0.8\n",
            "Los parametros esperados son w1: 0.6 , w2: 0.7 w3: 0.8 encontrados depues de  3  epocas.\n"
          ],
          "name": "stdout"
        }
      ]
    },
    {
      "cell_type": "code",
      "metadata": {
        "id": "BCrQ_6czKGEx",
        "colab_type": "code",
        "colab": {
          "base_uri": "https://localhost:8080/",
          "height": 34
        },
        "outputId": "cb4f8535-c5e8-4b16-81f9-5139084cef86"
      },
      "source": [
        ""
      ],
      "execution_count": 115,
      "outputs": [
        {
          "output_type": "execute_result",
          "data": {
            "text/plain": [
              "0"
            ]
          },
          "metadata": {
            "tags": []
          },
          "execution_count": 115
        }
      ]
    },
    {
      "cell_type": "code",
      "metadata": {
        "id": "VRBHPa8jKsUl",
        "colab_type": "code",
        "colab": {
          "base_uri": "https://localhost:8080/",
          "height": 537
        },
        "outputId": "87573730-3baa-4c2f-c14e-c17158efd039"
      },
      "source": [
        ""
      ],
      "execution_count": 116,
      "outputs": [
        {
          "output_type": "stream",
          "text": [
            "x1,x2,x3 esperado real error w1    w2    w3\n",
            "[0, 0, 0]    0     0    0   0.2   0.3   0.4\n",
            "[0, 0, 1]    0     0    0   0.2   0.3   0.4\n",
            "[0, 1, 0]    0     0    0   0.2   0.3   0.4\n",
            "[1, 0, 0]    0     0    0   0.2   0.3   0.4\n",
            "[0, 1, 1]    0     0    0   0.2   0.3   0.4\n",
            "[1, 1, 0]    0     0    0   0.2   0.3   0.4\n",
            "[1, 0, 1]    0     0    0   0.2   0.3   0.4\n",
            "[1, 1, 1]    1     0    1   0.2   0.3   0.4\n",
            "1\n",
            "x1,x2,x3 esperado real error w1    w2    w3\n",
            "[0, 0, 0]    0     0    0   0.4   0.5   0.6\n",
            "[0, 0, 1]    0     0    0   0.4   0.5   0.6\n",
            "[0, 1, 0]    0     0    0   0.4   0.5   0.6\n",
            "[1, 0, 0]    0     0    0   0.4   0.5   0.6\n",
            "[0, 1, 1]    0     1    -1   0.4   0.5   0.6\n",
            "[1, 1, 0]    0     0    0   0.4   0.3   0.4\n",
            "[1, 0, 1]    0     0    0   0.4   0.3   0.4\n",
            "[1, 1, 1]    1     1    0   0.4   0.3   0.4\n",
            "-1\n",
            "x1,x2,x3 esperado real error w1    w2    w3\n",
            "[0, 0, 0]    0     0    0   0.4   0.3   0.4\n",
            "[0, 0, 1]    0     0    0   0.4   0.3   0.4\n",
            "[0, 1, 0]    0     0    0   0.4   0.3   0.4\n",
            "[1, 0, 0]    0     0    0   0.4   0.3   0.4\n",
            "[0, 1, 1]    0     0    0   0.4   0.3   0.4\n",
            "[1, 1, 0]    0     0    0   0.4   0.3   0.4\n",
            "[1, 0, 1]    0     0    0   0.4   0.3   0.4\n",
            "[1, 1, 1]    1     1    0   0.4   0.3   0.4\n",
            "0\n"
          ],
          "name": "stdout"
        }
      ]
    },
    {
      "cell_type": "code",
      "metadata": {
        "id": "8zml-VuIK2wS",
        "colab_type": "code",
        "colab": {
          "base_uri": "https://localhost:8080/",
          "height": 34
        },
        "outputId": "e1a010e8-694f-4ddb-f095-6d61aea162d1"
      },
      "source": [
        "w2"
      ],
      "execution_count": 94,
      "outputs": [
        {
          "output_type": "execute_result",
          "data": {
            "text/plain": [
              "0.09999999999999998"
            ]
          },
          "metadata": {
            "tags": []
          },
          "execution_count": 94
        }
      ]
    },
    {
      "cell_type": "code",
      "metadata": {
        "id": "TgtUUvjqVhrV",
        "colab_type": "code",
        "colab": {}
      },
      "source": [
        ""
      ],
      "execution_count": 0,
      "outputs": []
    }
  ]
}